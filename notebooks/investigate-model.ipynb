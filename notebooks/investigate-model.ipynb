{
 "cells": [
  {
   "cell_type": "code",
   "execution_count": 1,
   "metadata": {
    "tags": []
   },
   "outputs": [],
   "source": [
    "%load_ext autoreload\n",
    "%autoreload 2"
   ]
  },
  {
   "cell_type": "code",
   "execution_count": 2,
   "metadata": {
    "tags": []
   },
   "outputs": [],
   "source": [
    "from refuge.config import load_config\n",
    "from refuge.training import train, get_tokenizer_and_model"
   ]
  },
  {
   "cell_type": "code",
   "execution_count": 3,
   "metadata": {
    "tags": []
   },
   "outputs": [
    {
     "data": {
      "text/plain": [
       "namespace(project=namespace(name='alice'),\n",
       "          model=namespace(hugging_face_name='databricks/dolly-v2-3b'),\n",
       "          prompt=namespace(initializer=\"Write an exerpt of a surreal children's fantasy story set in a subterranean world populated by peculiar anthropomorphic creatures. Go!\\n\\n\"),\n",
       "          training=namespace(block_size=300,\n",
       "                             checkpoint_interval=20,\n",
       "                             eval_interval=5,\n",
       "                             eval_blocks=8,\n",
       "                             batch_size=1,\n",
       "                             base_acc_steps=16,\n",
       "                             acc_doubling_rate=0,\n",
       "                             plateau_steps=0),\n",
       "          optimizer=namespace(lr=0.01,\n",
       "                              beta1=0.0,\n",
       "                              decay_rate=-0.8,\n",
       "                              weight_decay=0.1,\n",
       "                              scale_parameter=False,\n",
       "                              relative_step=False),\n",
       "          scheduler=namespace(num_warmup_steps=0,\n",
       "                              num_cycles=8,\n",
       "                              num_training_steps=6000))"
      ]
     },
     "execution_count": 3,
     "metadata": {},
     "output_type": "execute_result"
    }
   ],
   "source": [
    "cfg = load_config()\n",
    "cfg"
   ]
  },
  {
   "cell_type": "code",
   "execution_count": null,
   "metadata": {
    "tags": []
   },
   "outputs": [],
   "source": [
    "tokenizer, model = get_tokenizer_and_model(cfg)"
   ]
  },
  {
   "cell_type": "code",
   "execution_count": null,
   "metadata": {
    "tags": []
   },
   "outputs": [],
   "source": [
    "# parameters = model.gpt_neox.parameters()"
   ]
  },
  {
   "cell_type": "code",
   "execution_count": null,
   "metadata": {
    "tags": []
   },
   "outputs": [],
   "source": [
    "# next(parameters).shape"
   ]
  },
  {
   "cell_type": "code",
   "execution_count": null,
   "metadata": {
    "tags": []
   },
   "outputs": [],
   "source": [
    "# 2560 * 4"
   ]
  },
  {
   "cell_type": "code",
   "execution_count": null,
   "metadata": {},
   "outputs": [],
   "source": []
  },
  {
   "cell_type": "code",
   "execution_count": null,
   "metadata": {},
   "outputs": [],
   "source": []
  },
  {
   "cell_type": "code",
   "execution_count": null,
   "metadata": {},
   "outputs": [],
   "source": []
  },
  {
   "cell_type": "code",
   "execution_count": null,
   "metadata": {
    "tags": []
   },
   "outputs": [],
   "source": [
    "nearest_tokens_for_soft_prompt = model.translated_soft_prompt()\n",
    "tokenizer.decode(nearest_tokens_for_soft_prompt)"
   ]
  },
  {
   "cell_type": "code",
   "execution_count": null,
   "metadata": {
    "tags": []
   },
   "outputs": [],
   "source": [
    "eos_token_id = tokenizer.encode(\"### End\")[0]"
   ]
  },
  {
   "cell_type": "code",
   "execution_count": null,
   "metadata": {},
   "outputs": [],
   "source": []
  },
  {
   "cell_type": "code",
   "execution_count": null,
   "metadata": {
    "tags": []
   },
   "outputs": [],
   "source": [
    "# prompt = f\"\"\"Below is an instruction that describes a task. Write a response that appropriately completes the request.\n",
    "\n",
    "# ### Instruction:\n",
    "# {model.soft_prompt}\n",
    "\n",
    "# ### Response:\"\"\"\n",
    "\n",
    "# call = tokenizer(prompt, return_tensors=\"pt\").input_ids.cuda()\n",
    "\n",
    "# output = model.generate(\n",
    "#     input_ids=call,\n",
    "#     pad_token_id=tokenizer.pad_token_id,\n",
    "#     max_new_tokens=1024,\n",
    "#     top_p=0.92,\n",
    "#     do_sample=True,\n",
    "#     eos_token_id=eos_token_id,\n",
    "# )\n",
    "\n",
    "# print(tokenizer.decode(output[0]))"
   ]
  },
  {
   "cell_type": "code",
   "execution_count": null,
   "metadata": {
    "tags": []
   },
   "outputs": [],
   "source": [
    "import torch\n",
    "import torch.nn as nn\n",
    "from typing import cast"
   ]
  },
  {
   "cell_type": "code",
   "execution_count": null,
   "metadata": {
    "tags": []
   },
   "outputs": [],
   "source": [
    "example_tokens = torch.IntTensor([0, 1, 2]).to(model.device)"
   ]
  },
  {
   "cell_type": "code",
   "execution_count": null,
   "metadata": {
    "tags": []
   },
   "outputs": [],
   "source": [
    "example_embeddings = model.convert_tokens_to_embeddings(example_tokens)"
   ]
  },
  {
   "cell_type": "code",
   "execution_count": null,
   "metadata": {},
   "outputs": [],
   "source": []
  },
  {
   "cell_type": "code",
   "execution_count": null,
   "metadata": {
    "tags": []
   },
   "outputs": [],
   "source": [
    "def max_cosine_similarity(model, embeddings):\n",
    "    embeddings_transposed = embeddings.T\n",
    "    normalized_embedding_transposed = torch.linalg.norm(\n",
    "        embeddings_transposed, dim=0, keepdim=True\n",
    "    )\n",
    "\n",
    "    embedding_layer = cast(nn.Embedding, model.gpt_neox.embed_in)\n",
    "    normalized_weights = torch.linalg.norm(\n",
    "        embedding_layer.weight, dim=1, keepdim=True\n",
    "    )\n",
    "\n",
    "    cosine_similarities = (\n",
    "        (embedding_layer.weight @ embeddings_transposed)\n",
    "        / (normalized_weights @ normalized_embedding_transposed)\n",
    "    ).T\n",
    "    \n",
    "    return torch.max(cosine_similarities, dim=1)\n",
    "\n",
    "\n",
    "max_cosine_similarities = max_cosine_similarity(model, example_embeddings)"
   ]
  },
  {
   "cell_type": "code",
   "execution_count": null,
   "metadata": {},
   "outputs": [],
   "source": []
  },
  {
   "cell_type": "code",
   "execution_count": null,
   "metadata": {
    "tags": []
   },
   "outputs": [],
   "source": [
    "max_soft_prompt_sim = max_cosine_similarity(model, model.soft_prompt_embeddings)\n",
    "max_soft_prompt_sim.values"
   ]
  },
  {
   "cell_type": "code",
   "execution_count": null,
   "metadata": {
    "tags": []
   },
   "outputs": [],
   "source": [
    "max_token_affinity = max_soft_prompt_sim.values - 1e-5\n",
    "target = torch.ones_like(max_token_affinity)"
   ]
  },
  {
   "cell_type": "code",
   "execution_count": null,
   "metadata": {
    "tags": []
   },
   "outputs": [],
   "source": [
    "nn.functional.binary_cross_entropy(max_token_affinity, target)"
   ]
  },
  {
   "cell_type": "code",
   "execution_count": null,
   "metadata": {
    "tags": []
   },
   "outputs": [],
   "source": [
    "train(cfg, tokenizer, model)"
   ]
  },
  {
   "cell_type": "code",
   "execution_count": null,
   "metadata": {},
   "outputs": [],
   "source": []
  }
 ],
 "metadata": {
  "accelerator": "GPU",
  "colab": {
   "collapsed_sections": [],
   "name": "tuning_finetune_alice.ipynb",
   "provenance": []
  },
  "interpreter": {
   "hash": "3a36cc62f71b170ca22994dbd401744aeca204aa470bb3afe779afe0ab68d530"
  },
  "kernelspec": {
   "display_name": "Python 3 (ipykernel)",
   "language": "python",
   "name": "python3"
  },
  "language_info": {
   "codemirror_mode": {
    "name": "ipython",
    "version": 3
   },
   "file_extension": ".py",
   "mimetype": "text/x-python",
   "name": "python",
   "nbconvert_exporter": "python",
   "pygments_lexer": "ipython3",
   "version": "3.11.2"
  },
  "metadata": {
   "interpreter": {
    "hash": "3a36cc62f71b170ca22994dbd401744aeca204aa470bb3afe779afe0ab68d530"
   }
  }
 },
 "nbformat": 4,
 "nbformat_minor": 4
}
